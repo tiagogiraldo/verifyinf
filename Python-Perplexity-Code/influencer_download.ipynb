{
 "cells": [
  {
   "cell_type": "markdown",
   "id": "8b07bedf-d18b-452f-a22e-33c1923d06db",
   "metadata": {},
   "source": [
    "# Search Health Inluencer Promt | Perplexity | Sonar-pro Model"
   ]
  },
  {
   "cell_type": "code",
   "execution_count": 1,
   "id": "a576373f-1e1c-4ca7-88be-7f2f983d2044",
   "metadata": {},
   "outputs": [],
   "source": [
    "from openai import OpenAI\n",
    "import requests\n",
    "import json\n",
    "from api_key import API_KEY"
   ]
  },
  {
   "cell_type": "code",
   "execution_count": 2,
   "id": "aacb68e9-2bdb-4526-bda9-daa102d4c3cc",
   "metadata": {},
   "outputs": [],
   "source": [
    "YOUR_API_KEY = API_KEY"
   ]
  },
  {
   "cell_type": "code",
   "execution_count": 3,
   "id": "50ac01a6-6fff-401f-8098-e3ec457476b8",
   "metadata": {},
   "outputs": [
    {
     "data": {
      "text/plain": [
       "0.0"
      ]
     },
     "execution_count": 3,
     "metadata": {},
     "output_type": "execute_result"
    }
   ],
   "source": [
    "def true_score( claims, positive):\n",
    "\n",
    "    total_messages = claims + positive\n",
    "    \n",
    "    if claims == 0: \n",
    "        trust_score  =  1        \n",
    "    #elif positive == 0 and claims >=0:\n",
    "    #    trust_score  =  0\n",
    "    else: \n",
    "        trust_score  = 1 - (claims / total_messages )\n",
    "    return trust_score\n",
    "\n",
    "# Test\n",
    "\n",
    "claims = 3\n",
    "positive = 0\n",
    "true_score( claims, positive)"
   ]
  },
  {
   "cell_type": "code",
   "execution_count": 4,
   "id": "4b2689bc-91af-4ba8-b14b-5f6ca57592f7",
   "metadata": {},
   "outputs": [
    {
     "name": "stdout",
     "output_type": "stream",
     "text": [
      "Status Code: 200\n",
      "Parsed JSON content:\n",
      "{\n",
      "  \"name\": \"Sanjay Gupta\",\n",
      "  \"followers\": {\n",
      "    \"Instagram\": 245476,\n",
      "    \"Twitter\": 2500000,\n",
      "    \"Facebook\": 96700\n",
      "  },\n",
      "  \"estimatedRevenueYearly\": 90000,\n",
      "  \"categories\": [\n",
      "    \"Health\",\n",
      "    \"Medicine\",\n",
      "    \"Neurosurgery\",\n",
      "    \"Journalism\"\n",
      "  ],\n",
      "  \"products\": \"Books\",\n",
      "  \"claims\": 0,\n",
      "  \"positive\": 1414,\n",
      "  \"citations\": 21268,\n",
      "  \"books\": [\n",
      "    \"Chasing Life\",\n",
      "    \"Cheating Death\",\n",
      "    \"Monday Mornings: A Novel\",\n",
      "    \"Keep Sharp\"\n",
      "  ],\n",
      "  \"userNames\": {\n",
      "    \"Instagram\": \"@drsanjaygupta\",\n",
      "    \"Twitter\": \"@drsanjaygupta\",\n",
      "    \"Facebook\": \"@SanGuptaMD\"\n",
      "  },\n",
      "  \"consultationDate\": \"2025-01-25\",\n",
      "  \"bio\": \"Dr. Sanjay Gupta is a renowned neurosurgeon, medical reporter, and author. He serves as CNN's chief medical correspondent and has won multiple Emmy Awards for his work. Gupta is an associate professor of neurosurgery at Emory University School of Medicine and associate chief of neurosurgery at Grady Memorial Hospital. He has authored several bestselling books on health and medicine. During the COVID-19 pandemic, Gupta became a prominent voice in public health communication. He is known for his ability to explain complex medical issues to the general public and his advocacy for health and wellness.\",\n",
      "  \"totalSNFollowers\": 2842176,\n",
      "  \"trueScore\": 1\n",
      "}\n"
     ]
    }
   ],
   "source": [
    "#influencer_name = \"Dr. Sanjay Gupta\"\n",
    "influencer_name = \"Dr. Sanjay Gupta (IG: @drsanjaygupta, FB: @SanGuptaMD, Twitter: @drsanjaygupta)\"\n",
    "\n",
    "url = \"https://api.perplexity.ai/chat/completions\"\n",
    "headers = {\n",
    "    \"Authorization\": f\"Bearer {YOUR_API_KEY}\",\n",
    "    \"Content-Type\": \"application/json\"\n",
    "}\n",
    "\n",
    "payload = {\n",
    "    \"model\": \"sonar-pro\",\n",
    "    \"messages\": [\n",
    "        {\n",
    "            \"role\": \"system\",\n",
    "            \"content\": \"You are an expert social media analyst and influencer marketing specialist. Provide detailed, accurate information about influencers in a structured format.\"\n",
    "        },\n",
    "        {\n",
    "            \"role\": \"user\",\n",
    "            \"content\": f\"\"\"Provide the following information about the influencer {influencer_name} as a JSON object:\n",
    "            1. subject name without titles or honorifics, only the name name this variable as name\n",
    "            2. Follower count on major social networks (Instagram, TikTok, YouTube, Twitter, Facebook), name this variable followers\n",
    "            3. Estimated yearly revenue from social media activities as single figure dollar number, and name this variable as estimatedRevenueYearly\n",
    "            4. Main content categories or topics as single word, name this variable as categories\n",
    "            5. Specific products or brands frequently promoted as single element, name this variable as products\n",
    "            6. Count Significant claims about expertise or notable controversies as number, name this variable as claims\n",
    "            7. Count Positive feedback for their advice as a number, name this variable as positive\n",
    "            8. Google Scholar citations, name this variable as citations\n",
    "            9. Published books names, name this variable as books\n",
    "            10. His/her social network user name (Instagram, TikTok, YouTube, Twitter, Facebook), name this variable as userNames\n",
    "            11. Consultation date, name this variable as consultationDate\n",
    "            12. Make a summary or mini bio with not more than 200 words.  This variable as bio.\n",
    "            \n",
    "            \n",
    "            Format your response as a valid JSON object without any additional text.\"\"\"\n",
    "        }\n",
    "    ]\n",
    "}\n",
    "\n",
    "response = requests.post(url, headers=headers, json=payload)\n",
    "print(f\"Status Code: {response.status_code}\")\n",
    "\n",
    "if response.status_code == 200:\n",
    "    try:\n",
    "        response_data = response.json()\n",
    "        if 'choices' in response_data and isinstance(response_data['choices'], list) and len(response_data['choices']) > 0:\n",
    "            content = response_data['choices'][0]['message']['content']\n",
    "            try:\n",
    "                parsed_content = json.loads(content)\n",
    "            \n",
    "                total_snf = 0\n",
    "                for snf in parsed_content['followers'].values():\n",
    "                    if snf:\n",
    "                        total_snf += snf\n",
    "                        \n",
    "                parsed_content['totalSNFollowers'] = total_snf\n",
    "\n",
    "                parsed_content['trueScore'] = true_score(parsed_content['claims'], parsed_content['positive'])\n",
    "                \n",
    "                print(\"Parsed JSON content:\")\n",
    "                print(json.dumps(parsed_content, indent=2))\n",
    "\n",
    "                file_name = parsed_content['name'].split(\" \")[-1] + \".json\"\n",
    "                \n",
    "                with open(file_name, 'w') as json_file:\n",
    "                    json.dump(parsed_content, json_file, indent=4)\n",
    "                json_file.close()\n",
    "                \n",
    "            except json.JSONDecodeError:\n",
    "                print(\"The content is not in JSON format. Here's the raw content:\")\n",
    "                print(content)\n",
    "        else:\n",
    "            print(\"Unexpected response structure. Full response:\")\n",
    "            print(json.dumps(response_data, indent=2))\n",
    "    except Exception as e:\n",
    "        print(f\"Error processing response: {e}\")\n",
    "        print(\"Full response:\")\n",
    "        print(response.text)\n",
    "else:\n",
    "    print(f\"Error: {response.status_code}\")\n",
    "    print(response.text)"
   ]
  },
  {
   "cell_type": "code",
   "execution_count": null,
   "id": "f87b216f-be24-4634-946f-a9ccc2ad76a1",
   "metadata": {},
   "outputs": [],
   "source": [
    "parsed_content['claims'] / (parsed_content['claims'] + parsed_content['positive'])"
   ]
  },
  {
   "cell_type": "code",
   "execution_count": 5,
   "id": "f6b15e08-9dfe-4615-b0a9-f9b42e92c3a7",
   "metadata": {},
   "outputs": [
    {
     "data": {
      "text/plain": [
       "2842176"
      ]
     },
     "execution_count": 5,
     "metadata": {},
     "output_type": "execute_result"
    }
   ],
   "source": [
    "# Total followers test\n",
    "245476 + 2500000 + 96700"
   ]
  },
  {
   "cell_type": "markdown",
   "id": "48a19278-4a58-4eb9-9198-ae07f358fc8e",
   "metadata": {},
   "source": [
    "There is a problem with the Perplexity API results. Sometimes the values of the followers change. It is left for the purposes of the exercise, but it is an aspect to take into account in the future, in case a solution like this is used."
   ]
  },
  {
   "cell_type": "markdown",
   "id": "16ddbbc3-ef9f-4e12-a74e-78c200724b58",
   "metadata": {},
   "source": [
    "## Perplexity Function"
   ]
  },
  {
   "cell_type": "code",
   "execution_count": 6,
   "id": "2f1fbadc-6ca0-4dcf-9761-0b944f4a9f0e",
   "metadata": {},
   "outputs": [],
   "source": [
    "def influencer(influencer_name):\n",
    "    url = \"https://api.perplexity.ai/chat/completions\"\n",
    "    headers = {\n",
    "        \"Authorization\": f\"Bearer {YOUR_API_KEY}\",\n",
    "        \"Content-Type\": \"application/json\"\n",
    "    }\n",
    "    \n",
    "    payload = {\n",
    "        \"model\": \"sonar-pro\",\n",
    "        \"messages\": [\n",
    "            {\n",
    "                \"role\": \"system\",\n",
    "                \"content\": \"You are an expert social media analyst and influencer marketing specialist. Provide detailed, accurate information about influencers in a structured format.\"\n",
    "            },\n",
    "            {\n",
    "                \"role\": \"user\",\n",
    "                \"content\": f\"\"\"Provide the following information about the influencer {influencer_name} as a JSON object:\n",
    "                1. subject name without titles or honorifics, only the name name this variable as name\n",
    "                2. Follower count on major social networks (Instagram, TikTok, YouTube, Twitter, Facebook), name this variable followers\n",
    "                3. Estimated yearly revenue from social media activities as single figure dollar number, and name this variable as estimatedRevenueYearly\n",
    "                4. Main content categories or topics as single word, name this variable as categories\n",
    "                5. Specific products or brands frequently promoted as single element, name this variable as products\n",
    "                6. Count Significant claims about expertise or notable controversies as number, name this variable as claims\n",
    "                7. Count Positive feedback for their advice as a number, name this variable as positive\n",
    "                8. Google Scholar citations, name this variable as citations\n",
    "                9. Published books names, name this variable as books\n",
    "                10. His/her social network user name (Instagram, TikTok, YouTube, Twitter, Facebook), name this variable as userNames\n",
    "                11. Consultation date, name this variable as consultationDate\n",
    "                12. Make a summary or mini bio with not more than 200 words.  This variable as bio.\n",
    "                \n",
    "                \n",
    "                Format your response as a valid JSON object without any additional text.\"\"\"\n",
    "            }\n",
    "        ]\n",
    "    }\n",
    "    \n",
    "    response = requests.post(url, headers=headers, json=payload)\n",
    "    print(f\"Status Code: {response.status_code}\")\n",
    "    \n",
    "    if response.status_code == 200:\n",
    "        try:\n",
    "            response_data = response.json()\n",
    "            if 'choices' in response_data and isinstance(response_data['choices'], list) and len(response_data['choices']) > 0:\n",
    "                content = response_data['choices'][0]['message']['content']\n",
    "                try:\n",
    "                    parsed_content = json.loads(content)\n",
    "                \n",
    "                    total_snf = 0\n",
    "                    for snf in parsed_content['followers'].values():\n",
    "                        if snf:\n",
    "                            total_snf += snf\n",
    "                            \n",
    "                    parsed_content['totalSNFollowers'] = total_snf\n",
    "    \n",
    "                    parsed_content['trueScore'] = true_score(parsed_content['claims'], parsed_content['positive'])\n",
    "                    \n",
    "                    print(\"Parsed JSON content:\")\n",
    "                    print(json.dumps(parsed_content, indent=2))\n",
    "    \n",
    "                    file_name = parsed_content['name'].split(\" \")[-1] + \".json\"\n",
    "                    \n",
    "                    with open(file_name, 'w') as json_file:\n",
    "                        json.dump(parsed_content, json_file, indent=4)\n",
    "                    json_file.close()\n",
    "                    \n",
    "                except json.JSONDecodeError:\n",
    "                    print(\"The content is not in JSON format. Here's the raw content:\")\n",
    "                    print(content)\n",
    "            else:\n",
    "                print(\"Unexpected response structure. Full response:\")\n",
    "                print(json.dumps(response_data, indent=2))\n",
    "        except Exception as e:\n",
    "            print(f\"Error processing response: {e}\")\n",
    "            print(\"Full response:\")\n",
    "            print(response.text)\n",
    "    else:\n",
    "        print(f\"Error: {response.status_code}\")\n",
    "        print(response.text)"
   ]
  },
  {
   "cell_type": "code",
   "execution_count": 7,
   "id": "01945daa-6305-4b6a-9c4f-88cc643b8395",
   "metadata": {},
   "outputs": [
    {
     "name": "stdout",
     "output_type": "stream",
     "text": [
      "Status Code: 200\n",
      "Parsed JSON content:\n",
      "{\n",
      "  \"name\": \"Kevin Pho\",\n",
      "  \"followers\": {\n",
      "    \"Instagram\": 9186,\n",
      "    \"Twitter\": 250000,\n",
      "    \"Facebook\": 250000\n",
      "  },\n",
      "  \"estimatedRevenueYearly\": 500000,\n",
      "  \"categories\": [\n",
      "    \"healthcare\",\n",
      "    \"medicine\",\n",
      "    \"socialmedia\"\n",
      "  ],\n",
      "  \"products\": \"books\",\n",
      "  \"claims\": 0,\n",
      "  \"positive\": 5,\n",
      "  \"citations\": 0,\n",
      "  \"books\": [\n",
      "    \"Establishing, Managing, and Protecting Your Online Reputation: A Social Media Guide for Physicians and Medical Practices\"\n",
      "  ],\n",
      "  \"userNames\": {\n",
      "    \"Instagram\": \"@kevinphomd\",\n",
      "    \"Twitter\": \"@kevinmd\",\n",
      "    \"Facebook\": \"@Kevinmdblog\"\n",
      "  },\n",
      "  \"consultationDate\": \"2025-01-26\",\n",
      "  \"bio\": \"Kevin Pho is a board-certified internal medicine physician, national media commentator, and social media leader in healthcare. He founded KevinMD.com in 2004, which has become a leading platform for physicians, advanced practitioners, nurses, medical students, and patients to share insights and stories. Pho is also an acclaimed keynote speaker, addressing major medical conferences nationwide. He hosts 'The Podcast by KevinMD' and has co-authored a book on online reputation management for medical professionals. Pho's work has been featured in major media outlets, and he is recognized as a top influencer in healthcare and medicine.\",\n",
      "  \"totalSNFollowers\": 509186,\n",
      "  \"trueScore\": 1\n",
      "}\n"
     ]
    }
   ],
   "source": [
    "influencer_name = \"Kevin Pho, M.D. (IG: @kevinmd, FB: @Kevinmdblog, Twitter: @kevinmd)\"\n",
    "influencer(influencer_name)"
   ]
  },
  {
   "cell_type": "code",
   "execution_count": 8,
   "id": "a3c547da-e634-4cd3-9c01-b9522f44ae4a",
   "metadata": {},
   "outputs": [
    {
     "name": "stdout",
     "output_type": "stream",
     "text": [
      "Status Code: 200\n",
      "Parsed JSON content:\n",
      "{\n",
      "  \"name\": \"Danielle Ofri\",\n",
      "  \"followers\": {\n",
      "    \"Instagram\": 1468,\n",
      "    \"Twitter\": 12000,\n",
      "    \"Facebook\": 5000\n",
      "  },\n",
      "  \"estimatedRevenueYearly\": 50000,\n",
      "  \"categories\": [\n",
      "    \"Medicine\",\n",
      "    \"Writing\",\n",
      "    \"Healthcare\"\n",
      "  ],\n",
      "  \"products\": \"Books\",\n",
      "  \"claims\": 0,\n",
      "  \"positive\": 500,\n",
      "  \"citations\": 1000,\n",
      "  \"books\": [\n",
      "    \"When We Do Harm: A Doctor Confronts Medical Error\",\n",
      "    \"What Patients Say, What Doctors Hear\",\n",
      "    \"What Doctors Feel\",\n",
      "    \"Medicine in Translation\",\n",
      "    \"Singular Intimacies\",\n",
      "    \"Incidental Findings\"\n",
      "  ],\n",
      "  \"userNames\": {\n",
      "    \"Instagram\": \"@danielle_ofri\",\n",
      "    \"Twitter\": \"@danielleofri\",\n",
      "    \"Facebook\": \"@danielleOfriMD\"\n",
      "  },\n",
      "  \"consultationDate\": \"2024-01-26\",\n",
      "  \"bio\": \"Dr. Danielle Ofri is a practicing physician at Bellevue Hospital and a clinical professor of medicine at NYU. She is a prolific writer, contributing to publications like the New York Times and The New Yorker. As the founder and editor-in-chief of the Bellevue Literary Review, she bridges medicine and literature. Dr. Ofri has authored six books on life in medicine and is known for her TED talks. She is a recipient of the National Humanism in Medicine Medal and a Guggenheim Fellowship, advocating for improving doctor-patient relationships and bringing humanity back to healthcare.\",\n",
      "  \"totalSNFollowers\": 18468,\n",
      "  \"trueScore\": 1\n",
      "}\n"
     ]
    }
   ],
   "source": [
    "influencer_name = \"Danielle Ofri, M.D., Ph.D. (IG: @danielle_ofri, FB: @danielleOfriMD, Twitter: @danielleofri)\"\n",
    "influencer(influencer_name)"
   ]
  },
  {
   "cell_type": "code",
   "execution_count": 9,
   "id": "056b7341-c1e7-46b5-bb2a-129a0fee2801",
   "metadata": {},
   "outputs": [
    {
     "name": "stdout",
     "output_type": "stream",
     "text": [
      "Status Code: 200\n",
      "Parsed JSON content:\n",
      "{\n",
      "  \"name\": \"Sarah Kliff\",\n",
      "  \"followers\": {\n",
      "    \"Twitter\": 154000,\n",
      "    \"Facebook\": 0\n",
      "  },\n",
      "  \"estimatedRevenueYearly\": 150000,\n",
      "  \"categories\": [\n",
      "    \"healthcare\",\n",
      "    \"policy\",\n",
      "    \"journalism\"\n",
      "  ],\n",
      "  \"products\": \"None\",\n",
      "  \"claims\": 0,\n",
      "  \"positive\": 0,\n",
      "  \"citations\": 0,\n",
      "  \"books\": [],\n",
      "  \"userNames\": {\n",
      "    \"Twitter\": \"@sarahkliff\",\n",
      "    \"Facebook\": \"@skliff\"\n",
      "  },\n",
      "  \"consultationDate\": \"2025-01-26\",\n",
      "  \"bio\": \"Sarah Kliff is a prominent health policy journalist and investigative reporter for The New York Times. With nearly a decade of experience covering healthcare issues, she has become one of the country's leading voices on the Affordable Care Act and other health policy matters. Kliff's reporting has influenced legislation, been cited by the Supreme Court, and led to changes in hospital billing practices. Previously, she worked at Vox and The Washington Post, where she gained recognition for making complex policy issues understandable to the public. Kliff is known for her data-driven approach to journalism and her ability to uncover systemic issues in the U.S. healthcare system.\",\n",
      "  \"totalSNFollowers\": 154000,\n",
      "  \"trueScore\": 1\n",
      "}\n"
     ]
    }
   ],
   "source": [
    "influencer_name = \"Sarah Kliff (FB: @sarahkliff, Twitter: @sarahkliff)\"\n",
    "influencer(influencer_name)"
   ]
  },
  {
   "cell_type": "code",
   "execution_count": 10,
   "id": "71408463-66a9-4b93-8851-7597913f5364",
   "metadata": {},
   "outputs": [
    {
     "name": "stdout",
     "output_type": "stream",
     "text": [
      "Status Code: 200\n",
      "Parsed JSON content:\n",
      "{\n",
      "  \"name\": \"Mike Varshavski\",\n",
      "  \"followers\": {\n",
      "    \"Instagram\": 4497931,\n",
      "    \"YouTube\": 13200000,\n",
      "    \"TikTok\": 11400000,\n",
      "    \"Twitter\": 2100000,\n",
      "    \"Facebook\": 4200000\n",
      "  },\n",
      "  \"estimatedRevenueYearly\": 5000000,\n",
      "  \"categories\": [\n",
      "    \"Health\",\n",
      "    \"Medicine\",\n",
      "    \"Lifestyle\"\n",
      "  ],\n",
      "  \"products\": \"Skincare\",\n",
      "  \"claims\": 0,\n",
      "  \"positive\": 1000000,\n",
      "  \"citations\": 0,\n",
      "  \"books\": [],\n",
      "  \"userNames\": {\n",
      "    \"Instagram\": \"doctor.mike\",\n",
      "    \"YouTube\": \"doctormike\",\n",
      "    \"TikTok\": \"doctor.mike\",\n",
      "    \"Twitter\": \"realdoctormike\",\n",
      "    \"Facebook\": \"realdoctormike\"\n",
      "  },\n",
      "  \"consultationDate\": \"2025-01-26\",\n",
      "  \"bio\": \"Dr. Mike Varshavski is a board-certified family medicine physician and social media influencer known as 'Doctor Mike'. With over 23 million followers across platforms, he makes medical information accessible and engaging. Born in Russia, he immigrated to the US at age 6 and became a doctor by 24. Dr. Mike uses his platform to combat health misinformation, promote wellness, and raise awareness on various medical topics. He practices in New York and New Jersey, hosts 'The Checkup' podcast, and engages in charitable initiatives. His unique blend of medical expertise and media savvy has made him a trusted voice in digital health education.\",\n",
      "  \"totalSNFollowers\": 35397931,\n",
      "  \"trueScore\": 1\n",
      "}\n"
     ]
    }
   ],
   "source": [
    "influencer_name = \"Dr. Mike Varshavski (IG: @doctor.mike, FB: @realdoctormike, Twitter: @realdoctormike)\"\n",
    "influencer(influencer_name)"
   ]
  },
  {
   "cell_type": "code",
   "execution_count": 11,
   "id": "921407b6-1ee4-4b2c-90d6-24f0d09260e2",
   "metadata": {},
   "outputs": [
    {
     "name": "stdout",
     "output_type": "stream",
     "text": [
      "Status Code: 200\n",
      "Parsed JSON content:\n",
      "{\n",
      "  \"name\": \"Jennifer Gunter\",\n",
      "  \"followers\": {\n",
      "    \"Instagram\": 200000,\n",
      "    \"Twitter\": 360000,\n",
      "    \"Facebook\": 50000\n",
      "  },\n",
      "  \"estimatedRevenueYearly\": 500000,\n",
      "  \"categories\": [\n",
      "    \"women's health\",\n",
      "    \"gynecology\",\n",
      "    \"medical misinformation\"\n",
      "  ],\n",
      "  \"products\": \"books\",\n",
      "  \"claims\": 5,\n",
      "  \"positive\": 10000,\n",
      "  \"citations\": 50,\n",
      "  \"books\": [\n",
      "    \"The Preemie Primer\",\n",
      "    \"The Vagina Bible\",\n",
      "    \"The Menopause Manifesto\"\n",
      "  ],\n",
      "  \"userNames\": {\n",
      "    \"Instagram\": \"@drjengunter\",\n",
      "    \"Twitter\": \"@DrJenGunter\",\n",
      "    \"Facebook\": \"@DrJGunter\"\n",
      "  },\n",
      "  \"consultationDate\": \"2025-01-26\",\n",
      "  \"bio\": \"Dr. Jennifer Gunter is a renowned OB-GYN, pain medicine physician, and women's health advocate. Known as 'Twitter's resident gynecologist,' she has gained prominence for debunking medical misinformation and promoting evidence-based women's health information. Gunter is a New York Times bestselling author, with books like 'The Vagina Bible' and 'The Menopause Manifesto.' She actively combats pseudoscience in women's health, particularly criticizing products promoted by Gwyneth Paltrow's Goop. Gunter uses her substantial social media following to educate the public on reproductive health, menopause, and general women's wellness issues. Her work spans multiple platforms, including a blog, columns for major publications, and a CBC docuseries called 'Jensplaining.'\",\n",
      "  \"totalSNFollowers\": 610000,\n",
      "  \"trueScore\": 0.9995002498750625\n",
      "}\n"
     ]
    }
   ],
   "source": [
    "influencer_name = \"Dr. Jennifer Gunter (IG: @drjengunter, FB: @DrJGunter, Twitter: @DrJenGunter)\"\n",
    "influencer(influencer_name)"
   ]
  },
  {
   "cell_type": "code",
   "execution_count": 12,
   "id": "3aae4253-16dc-4f9f-af92-5e9686f6f42f",
   "metadata": {},
   "outputs": [
    {
     "name": "stdout",
     "output_type": "stream",
     "text": [
      "Status Code: 200\n",
      "Parsed JSON content:\n",
      "{\n",
      "  \"name\": \"David Katz\",\n",
      "  \"followers\": {\n",
      "    \"Instagram\": 8259,\n",
      "    \"Twitter\": 54000,\n",
      "    \"Facebook\": 28000\n",
      "  },\n",
      "  \"estimatedRevenueYearly\": 150000,\n",
      "  \"categories\": [\n",
      "    \"health\",\n",
      "    \"nutrition\",\n",
      "    \"medicine\",\n",
      "    \"lifestyle\"\n",
      "  ],\n",
      "  \"products\": \"Diet ID\",\n",
      "  \"claims\": 5,\n",
      "  \"positive\": 1000,\n",
      "  \"citations\": 200,\n",
      "  \"books\": [\n",
      "    \"How to Eat\",\n",
      "    \"The Truth About Food\",\n",
      "    \"Disease-Proof\",\n",
      "    \"The Flavor Point Diet\",\n",
      "    \"The Way to Eat\"\n",
      "  ],\n",
      "  \"userNames\": {\n",
      "    \"Instagram\": \"@davidkatz\",\n",
      "    \"Twitter\": \"@DrDavidKatz\",\n",
      "    \"Facebook\": \"@DrDavidKatz\"\n",
      "  },\n",
      "  \"consultationDate\": \"2025-01-26\",\n",
      "  \"bio\": \"Dr. David Katz is a renowned expert in preventive medicine, nutrition, and lifestyle medicine. He is the founding director of Yale University's Yale-Griffin Prevention Research Center, past president of the American College of Lifestyle Medicine, and founder of the True Health Initiative. Katz has authored numerous books, holds multiple patents, and has a significant social media presence. He is recognized for his work in health promotion, disease prevention, and the intersection of human and planetary health. Katz is also the founder and CEO of Diet ID, a dietary assessment and behavior change platform.\",\n",
      "  \"totalSNFollowers\": 90259,\n",
      "  \"trueScore\": 0.9950248756218906\n",
      "}\n"
     ]
    }
   ],
   "source": [
    "influencer_name = \"Dr. David Katz (IG: @davidkatz, FB: @DrDavidKatz, Twitter: @DrDavidKatz)\"\n",
    "influencer(influencer_name)"
   ]
  },
  {
   "cell_type": "code",
   "execution_count": 13,
   "id": "9ac0b5d2-a634-4b02-a767-ac088f8edcd7",
   "metadata": {},
   "outputs": [
    {
     "name": "stdout",
     "output_type": "stream",
     "text": [
      "Status Code: 200\n",
      "Parsed JSON content:\n",
      "{\n",
      "  \"name\": \"Regina Holliday\",\n",
      "  \"followers\": {\n",
      "    \"Twitter\": 20000,\n",
      "    \"Facebook\": 3000\n",
      "  },\n",
      "  \"estimatedRevenueYearly\": 50000,\n",
      "  \"categories\": [\n",
      "    \"healthcare\",\n",
      "    \"patientrights\",\n",
      "    \"art\"\n",
      "  ],\n",
      "  \"products\": \"patientadvocacyart\",\n",
      "  \"claims\": 0,\n",
      "  \"positive\": 200,\n",
      "  \"citations\": 5,\n",
      "  \"books\": [\n",
      "    \"The Walking Wall: 73 Cents to the Walking Gallery\",\n",
      "    \"The Writing on the Wall\"\n",
      "  ],\n",
      "  \"userNames\": {\n",
      "    \"Twitter\": \"@ReginaHolliday\",\n",
      "    \"Instagram\": \"@regina_holliday\"\n",
      "  },\n",
      "  \"consultationDate\": \"2025-01-26\",\n",
      "  \"bio\": \"Regina Holliday is a patient rights activist, artist, and founder of the Walking Gallery movement. After losing her husband to kidney cancer in 2009, she began using art to advocate for transparency in medical records and patient rights. Holliday paints murals and jacket backs to tell patient stories and has spoken at numerous healthcare conferences. Her work has been featured in major media outlets and has influenced health policy discussions. Through her advocacy, Holliday has become a prominent voice in the patient-centered care movement, using her artistic talents to bridge the gap between patients and healthcare providers.\",\n",
      "  \"totalSNFollowers\": 23000,\n",
      "  \"trueScore\": 1\n",
      "}\n"
     ]
    }
   ],
   "source": [
    "influencer_name = \"Regina Holliday (IG: @regina_holliday, Twitter: @ReginaHolliday)\"\n",
    "influencer(influencer_name)"
   ]
  },
  {
   "cell_type": "code",
   "execution_count": 14,
   "id": "0ea34c88-a3ba-40dc-b735-d9d5798990cb",
   "metadata": {},
   "outputs": [
    {
     "name": "stdout",
     "output_type": "stream",
     "text": [
      "Status Code: 200\n",
      "Parsed JSON content:\n",
      "{\n",
      "  \"name\": \"Angel Love Davis\",\n",
      "  \"followers\": {\n",
      "    \"Instagram\": 1000000,\n",
      "    \"YouTube\": 1200,\n",
      "    \"Twitter\": 14000,\n",
      "    \"Facebook\": 500000\n",
      "  },\n",
      "  \"estimatedRevenueYearly\": 200000,\n",
      "  \"categories\": [\n",
      "    \"lifestyle\",\n",
      "    \"fashion\",\n",
      "    \"nursing\",\n",
      "    \"entrepreneurship\"\n",
      "  ],\n",
      "  \"products\": \"Life Angels scrubs\",\n",
      "  \"claims\": 0,\n",
      "  \"positive\": 5000,\n",
      "  \"citations\": 0,\n",
      "  \"books\": [],\n",
      "  \"userNames\": {\n",
      "    \"Instagram\": \"iloveangel2\",\n",
      "    \"Twitter\": \"Iloveangel2\",\n",
      "    \"YouTube\": \"angellovedavis\"\n",
      "  },\n",
      "  \"consultationDate\": \"2025-01-26\",\n",
      "  \"bio\": \"Angel Love Davis is a multi-talented individual who has made a name for herself as a registered nurse, reality TV star, actress, and entrepreneur. Rising to fame on VH1's 'Basketball Wives LA', she has since leveraged her popularity to build a successful career in entertainment and fashion. Angel holds a nursing degree and has founded Life Angels, a stylish scrubs line for healthcare professionals. With over 1 million followers across social media platforms, she actively engages her audience by sharing insights into her diverse career and personal life. Angel has also ventured into acting, appearing in various films and TV series, showcasing her versatility and ambition.\",\n",
      "  \"totalSNFollowers\": 1515200,\n",
      "  \"trueScore\": 1\n",
      "}\n"
     ]
    }
   ],
   "source": [
    "influencer_name = \"Angel Love Davis (IG: @iloveangel2, Twitter: @Iloveangel2, Youtube: @angellovedavis)\"\n",
    "influencer(influencer_name)"
   ]
  },
  {
   "cell_type": "code",
   "execution_count": 15,
   "id": "10ceea1a-cfe8-4970-982e-94c16965266c",
   "metadata": {},
   "outputs": [
    {
     "name": "stdout",
     "output_type": "stream",
     "text": [
      "Status Code: 200\n",
      "Parsed JSON content:\n",
      "{\n",
      "  \"name\": \"Michelle Lewin\",\n",
      "  \"followers\": {\n",
      "    \"Instagram\": 16000000,\n",
      "    \"YouTube\": 402000,\n",
      "    \"Twitter\": 457000,\n",
      "    \"Facebook\": 8600000\n",
      "  },\n",
      "  \"estimatedRevenueYearly\": 1200000,\n",
      "  \"categories\": [\n",
      "    \"Fitness\",\n",
      "    \"Lifestyle\",\n",
      "    \"Modeling\"\n",
      "  ],\n",
      "  \"products\": \"FitPlan\",\n",
      "  \"claims\": 0,\n",
      "  \"positive\": 1000,\n",
      "  \"citations\": 0,\n",
      "  \"books\": [],\n",
      "  \"userNames\": {\n",
      "    \"Instagram\": \"@michelle_lewin\",\n",
      "    \"YouTube\": \"Michelle Lewin\",\n",
      "    \"Twitter\": \"@Michelle_Lewin\",\n",
      "    \"Facebook\": \"MichelleLewin\"\n",
      "  },\n",
      "  \"consultationDate\": \"2025-01-26\",\n",
      "  \"bio\": \"Michelle Lewin is a Venezuelan fitness influencer, model, and entrepreneur who has risen to prominence in the fitness industry. With over 16 million Instagram followers, she is known for her impressive physique and dedication to fitness. Lewin shares workout routines, nutritional tips, and lifestyle content across various social media platforms. She has transitioned from a catwalk model to a fitness model and IFBB competitor. Lewin has leveraged her social media success to launch her own workout app, FitPlan, and clothing brand, One0One. Her engaging content and positive energy have made her a beloved figure in the fitness community, inspiring millions to pursue healthier lifestyles.\",\n",
      "  \"totalSNFollowers\": 25459000,\n",
      "  \"trueScore\": 1\n",
      "}\n"
     ]
    }
   ],
   "source": [
    "influencer_name = \"Michelle Lewin\"\n",
    "influencer(influencer_name)"
   ]
  },
  {
   "cell_type": "code",
   "execution_count": 16,
   "id": "ee634ac2-498e-44bb-930b-130c4869083f",
   "metadata": {},
   "outputs": [
    {
     "name": "stdout",
     "output_type": "stream",
     "text": [
      "Status Code: 200\n",
      "Parsed JSON content:\n",
      "{\n",
      "  \"name\": \"Deepak Chopra\",\n",
      "  \"followers\": {\n",
      "    \"Instagram\": 2736378,\n",
      "    \"Facebook\": 3000000,\n",
      "    \"Twitter\": 3000000,\n",
      "    \"YouTube\": 500000\n",
      "  },\n",
      "  \"estimatedRevenueYearly\": 5000000,\n",
      "  \"categories\": [\n",
      "    \"Wellness\",\n",
      "    \"Spirituality\",\n",
      "    \"Meditation\",\n",
      "    \"Ayurveda\",\n",
      "    \"Self-help\"\n",
      "  ],\n",
      "  \"products\": [\n",
      "    \"Books\",\n",
      "    \"Meditation apps\",\n",
      "    \"Wellness retreats\",\n",
      "    \"Ayurvedic products\"\n",
      "  ],\n",
      "  \"claims\": 10,\n",
      "  \"positive\": 1000000,\n",
      "  \"citations\": 5849,\n",
      "  \"books\": [\n",
      "    \"The Seven Spiritual Laws of Success\",\n",
      "    \"Ageless Body, Timeless Mind\",\n",
      "    \"Perfect Health\",\n",
      "    \"Quantum Healing\",\n",
      "    \"The Future of God\",\n",
      "    \"Metahuman\",\n",
      "    \"Total Meditation\"\n",
      "  ],\n",
      "  \"userNames\": {\n",
      "    \"Instagram\": \"@deepakchopra\",\n",
      "    \"Facebook\": \"DeepakChopra\",\n",
      "    \"Twitter\": \"@DeepakChopra\",\n",
      "    \"YouTube\": \"@DeepakChopra\"\n",
      "  },\n",
      "  \"consultationDate\": \"2025-01-26\",\n",
      "  \"bio\": \"Deepak Chopra is a world-renowned figure in alternative medicine and personal transformation. Born in India and trained as a physician, he has become a leading voice in the field of mind-body healing and integrative medicine. Chopra has authored over 90 books, many of which are international bestsellers. He is the founder of The Chopra Foundation and Chopra Global, organizations that promote health and well-being. Known for blending Western medicine with Eastern spirituality, Chopra's teachings often focus on meditation, Ayurveda, and consciousness. Despite some controversies, he maintains a large following and continues to influence millions through his books, speaking engagements, and digital platforms.\",\n",
      "  \"totalSNFollowers\": 9236378,\n",
      "  \"trueScore\": 0.999990000099999\n",
      "}\n"
     ]
    }
   ],
   "source": [
    "influencer_name = \"Deepak Chopra\"\n",
    "influencer(influencer_name)"
   ]
  },
  {
   "cell_type": "code",
   "execution_count": 17,
   "id": "0f6306c5-a124-431c-8f1b-f9e9e4d03a1c",
   "metadata": {},
   "outputs": [
    {
     "name": "stdout",
     "output_type": "stream",
     "text": [
      "Status Code: 200\n",
      "Parsed JSON content:\n",
      "{\n",
      "  \"name\": \"Kaitlyn Reichert\",\n",
      "  \"followers\": {\n",
      "    \"Instagram\": 2253977,\n",
      "    \"TikTok\": 347000,\n",
      "    \"YouTube\": null,\n",
      "    \"Twitter\": null,\n",
      "    \"Facebook\": null\n",
      "  },\n",
      "  \"estimatedRevenueYearly\": 144000,\n",
      "  \"categories\": [\n",
      "    \"fashion\",\n",
      "    \"lifestyle\",\n",
      "    \"beauty\",\n",
      "    \"wedding\"\n",
      "  ],\n",
      "  \"products\": \"PAINT Nail Bar St. Louis\",\n",
      "  \"claims\": 0,\n",
      "  \"positive\": 0,\n",
      "  \"citations\": 0,\n",
      "  \"books\": [],\n",
      "  \"userNames\": {\n",
      "    \"Instagram\": \"tru.kait\",\n",
      "    \"TikTok\": null,\n",
      "    \"YouTube\": null,\n",
      "    \"Twitter\": null,\n",
      "    \"Facebook\": null\n",
      "  },\n",
      "  \"consultationDate\": \"2025-01-26\",\n",
      "  \"bio\": \"Kaitlyn Reichert, known as Kait, is a social media influencer based in St. Louis, Missouri. She shares content about fashion, lifestyle, beauty, and her wedding journey. With over 2 million Instagram followers, Kait engages her audience with style inspiration and trendy finds. Her content strategy blends professional expertise with authentic storytelling, resonating with executives, entrepreneurs, and authors. Kait's influence extends to her newsletter 'Build A Brand' with over 51,000 subscribers. She's recognized for her ability to simplify complex branding strategies and deliver actionable insights to her followers.\",\n",
      "  \"totalSNFollowers\": 2600977,\n",
      "  \"trueScore\": 1\n",
      "}\n"
     ]
    }
   ],
   "source": [
    "influencer_name = \"Kait\"\n",
    "influencer(influencer_name)"
   ]
  },
  {
   "cell_type": "code",
   "execution_count": 18,
   "id": "2973d336-5ce8-436d-9de6-33a494747b2c",
   "metadata": {},
   "outputs": [
    {
     "name": "stdout",
     "output_type": "stream",
     "text": [
      "Status Code: 200\n",
      "Parsed JSON content:\n",
      "{\n",
      "  \"name\": \"Kait Malthaner\",\n",
      "  \"followers\": {\n",
      "    \"Instagram\": 154000,\n",
      "    \"YouTube\": 579000,\n",
      "    \"Facebook\": null,\n",
      "    \"Twitter\": null,\n",
      "    \"TikTok\": null\n",
      "  },\n",
      "  \"estimatedRevenueYearly\": 150000,\n",
      "  \"categories\": [\n",
      "    \"nutrition\",\n",
      "    \"health\",\n",
      "    \"keto\",\n",
      "    \"carnivore\"\n",
      "  ],\n",
      "  \"products\": [\n",
      "    \"Berberine supplements\",\n",
      "    \"Inositol supplements\",\n",
      "    \"Collagen powder\"\n",
      "  ],\n",
      "  \"claims\": 2,\n",
      "  \"positive\": 500,\n",
      "  \"citations\": 0,\n",
      "  \"books\": [],\n",
      "  \"userNames\": {\n",
      "    \"Instagram\": \"healthcoachkait\",\n",
      "    \"YouTube\": \"Kait Malthaner (BSc Nutrition & Exercise)\",\n",
      "    \"Facebook\": \"healthcoachkait\",\n",
      "    \"Twitter\": \"healthcoachkait\"\n",
      "  },\n",
      "  \"consultationDate\": \"2025-01-26\",\n",
      "  \"bio\": \"Kait Malthaner is a certified health coach and YouTuber based in Australia, specializing in ketogenic and carnivore diets. With a BSc in Nutrition & Exercise, she focuses on helping clients achieve weight loss and fitness goals through a nutrient-dense, high-fat, low-carb approach. Kait shares her personal journey of overcoming weight struggles and anxiety through dietary changes. She creates content on YouTube and Instagram, offering advice on topics such as insulin resistance, blood sugar control, and overall health optimization. Kait is known for her straightforward approach to nutrition and her advocacy for animal-based diets.\",\n",
      "  \"totalSNFollowers\": 733000,\n",
      "  \"trueScore\": 0.9960159362549801\n",
      "}\n"
     ]
    }
   ],
   "source": [
    "influencer_name = \"Kait Malthaner\"\n",
    "influencer(influencer_name)"
   ]
  },
  {
   "cell_type": "code",
   "execution_count": 19,
   "id": "201ab4a9-e840-40b7-8e46-bb83b7fe34ed",
   "metadata": {},
   "outputs": [
    {
     "name": "stdout",
     "output_type": "stream",
     "text": [
      "Status Code: 200\n",
      "Parsed JSON content:\n",
      "{\n",
      "  \"name\": \"Carlos Jaramillo\",\n",
      "  \"followers\": {\n",
      "    \"Instagram\": 2233313,\n",
      "    \"YouTube\": 100000\n",
      "  },\n",
      "  \"estimatedRevenueYearly\": 500000,\n",
      "  \"categories\": [\n",
      "    \"health\",\n",
      "    \"nutrition\",\n",
      "    \"functionalmedicine\"\n",
      "  ],\n",
      "  \"products\": \"supplements\",\n",
      "  \"claims\": 1,\n",
      "  \"positive\": 100000,\n",
      "  \"citations\": 19519,\n",
      "  \"books\": [\n",
      "    \"El milagro metab\\u00f3lico\"\n",
      "  ],\n",
      "  \"userNames\": {\n",
      "    \"Instagram\": \"drcarlosjaramillo\",\n",
      "    \"YouTube\": \"DrCarlos\"\n",
      "  },\n",
      "  \"consultationDate\": \"2025-01-26\",\n",
      "  \"bio\": \"Dr. Carlos Jaramillo is a Colombian functional medicine specialist and nutrition expert with a significant social media presence. He studied at La Sabana University and the Institute of Functional Medicine in the United States. Jaramillo focuses on lifestyle-based health strategies and educates his audience on metabolism, nutrition, and overall well-being through various platforms including Instagram, YouTube, books, and virtual courses. His content aims to empower individuals to take control of their health using scientifically-backed approaches. Jaramillo's work bridges traditional medicine with functional and nutritional practices, garnering him a large following in the Spanish-speaking world.\",\n",
      "  \"totalSNFollowers\": 2333313,\n",
      "  \"trueScore\": 0.999990000099999\n",
      "}\n"
     ]
    }
   ],
   "source": [
    "influencer_name = \"Dr. Carlos Jaramillo\"\n",
    "influencer(influencer_name)"
   ]
  },
  {
   "cell_type": "markdown",
   "id": "dc2acf39-238b-40db-936b-e7a5af8dc246",
   "metadata": {},
   "source": [
    "In above case, youtube followers are more than 5 millions.  "
   ]
  },
  {
   "cell_type": "code",
   "execution_count": null,
   "id": "6552ec7f-5245-47b8-aa58-4718b76fe12c",
   "metadata": {},
   "outputs": [],
   "source": []
  }
 ],
 "metadata": {
  "kernelspec": {
   "display_name": "Python 3 (ipykernel)",
   "language": "python",
   "name": "python3"
  },
  "language_info": {
   "codemirror_mode": {
    "name": "ipython",
    "version": 3
   },
   "file_extension": ".py",
   "mimetype": "text/x-python",
   "name": "python",
   "nbconvert_exporter": "python",
   "pygments_lexer": "ipython3",
   "version": "3.11.7"
  }
 },
 "nbformat": 4,
 "nbformat_minor": 5
}
